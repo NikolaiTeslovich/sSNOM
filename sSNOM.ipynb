{
  "nbformat": 4,
  "nbformat_minor": 0,
  "metadata": {
    "colab": {
      "name": "sSNOM.ipynb",
      "version": "0.3.2",
      "provenance": [],
      "include_colab_link": true
    },
    "kernelspec": {
      "name": "python3",
      "display_name": "Python 3"
    }
  },
  "cells": [
    {
      "cell_type": "markdown",
      "metadata": {
        "id": "view-in-github",
        "colab_type": "text"
      },
      "source": [
        "<a href=\"https://colab.research.google.com/github/NikolaiTeslovich/sSNOM/blob/master/sSNOM.ipynb\" target=\"_parent\"><img src=\"https://colab.research.google.com/assets/colab-badge.svg\" alt=\"Open In Colab\"/></a>"
      ]
    },
    {
      "cell_type": "code",
      "metadata": {
        "id": "1YASyoTRJ9Pp",
        "colab_type": "code",
        "outputId": "531cdb60-5ca6-4dcb-8f7f-7d826f1739c5",
        "colab": {
          "base_uri": "https://localhost:8080/",
          "height": 34
        }
      },
      "source": [
        "# import necessary Python packages\n",
        "import os\n",
        "import numpy as np\n",
        "import urllib.request\n",
        "import matplotlib.pyplot as plt\n",
        "\n",
        "# print message after packages imported successfully\n",
        "print(\"import of packages successful\")\n"
      ],
      "execution_count": 0,
      "outputs": [
        {
          "output_type": "stream",
          "text": [
            "import of packages successful\n"
          ],
          "name": "stdout"
        }
      ]
    },
    {
      "cell_type": "code",
      "metadata": {
        "id": "JcBBk64ZJ_pl",
        "colab_type": "code",
        "outputId": "a7623fb3-661b-48de-9dc7-4591b79890b2",
        "colab": {
          "base_uri": "https://localhost:8080/",
          "height": 34
        }
      },
      "source": [
        "#check working directory directory\n",
        "os.getcwd()"
      ],
      "execution_count": 0,
      "outputs": [
        {
          "output_type": "execute_result",
          "data": {
            "text/plain": [
              "'/content'"
            ]
          },
          "metadata": {
            "tags": []
          },
          "execution_count": 205
        }
      ]
    },
    {
      "cell_type": "code",
      "metadata": {
        "id": "tMz9byIcKiXh",
        "colab_type": "code",
        "colab": {}
      },
      "source": [
        "#load the text file\n",
        "A = np.loadtxt(fname = \"/content/M0A.txt\")\n",
        "#load a second text file\n",
        "B = np.loadtxt(fname = \"/content/R-M0A.txt\")"
      ],
      "execution_count": 0,
      "outputs": []
    },
    {
      "cell_type": "code",
      "metadata": {
        "id": "G6pPLOCSNHbk",
        "colab_type": "code",
        "outputId": "6db7e5f6-53ce-4dbe-a186-b60efd7b96b8",
        "colab": {
          "base_uri": "https://localhost:8080/",
          "height": 238
        }
      },
      "source": [
        "#reverse each line of the array R-MOA\n",
        "np.fliplr(B)"
      ],
      "execution_count": 0,
      "outputs": [
        {
          "output_type": "execute_result",
          "data": {
            "text/plain": [
              "array([[156.9828949 , 156.98199463, 156.984375  , ..., 157.19381714,\n",
              "        157.07228088, 156.99557495],\n",
              "       [157.19836426, 157.20178223, 157.17692566, ..., 157.22166443,\n",
              "        157.20944214, 157.01086426],\n",
              "       [157.22401428, 157.22120667, 157.2170105 , ..., 157.24023438,\n",
              "        157.24275208, 157.2121582 ],\n",
              "       ...,\n",
              "       [158.47480774, 158.47570801, 158.47434998, ..., 158.29196167,\n",
              "        158.30410767, 158.49917603],\n",
              "       [158.34545898, 158.29141235, 158.28903198, ..., 158.51589966,\n",
              "        158.51693726, 158.30532837],\n",
              "       [158.50994873, 158.51208496, 158.51820374, ..., 158.5422821 ,\n",
              "        158.54006958, 158.34240723]])"
            ]
          },
          "metadata": {
            "tags": []
          },
          "execution_count": 207
        }
      ]
    },
    {
      "cell_type": "code",
      "metadata": {
        "id": "05usyX1jTjOl",
        "colab_type": "code",
        "colab": {}
      },
      "source": [
        "C = A - B"
      ],
      "execution_count": 0,
      "outputs": []
    },
    {
      "cell_type": "code",
      "metadata": {
        "id": "y7-up_LwVH67",
        "colab_type": "code",
        "outputId": "6a5f7c54-dd97-4668-a9f7-549dbb447975",
        "colab": {
          "base_uri": "https://localhost:8080/",
          "height": 238
        }
      },
      "source": [
        "C = np.array(C)\n",
        "C"
      ],
      "execution_count": 0,
      "outputs": [
        {
          "output_type": "execute_result",
          "data": {
            "text/plain": [
              "array([[ 0.1897583 ,  0.10102844, -0.02185059, ...,  0.19680786,\n",
              "         0.19607544,  0.20048523],\n",
              "       [ 0.01747131, -0.17991638, -0.19192505, ..., -0.14826965,\n",
              "        -0.18244934, -0.18002319],\n",
              "       [-0.19082642, -0.19854736, -0.2116394 , ..., -0.1811676 ,\n",
              "        -0.18025208, -0.1934967 ],\n",
              "       ...,\n",
              "       [-0.22175598, -0.02478027, -0.01542664, ..., -0.20613098,\n",
              "        -0.20765686, -0.18841553],\n",
              "       [ 0.19429016, -0.02183533, -0.02947998, ...,  0.18249512,\n",
              "         0.18359375,  0.14096069],\n",
              "       [-0.01571655, -0.21026611, -0.22119141, ..., -0.19273376,\n",
              "        -0.17889404, -0.20617676]])"
            ]
          },
          "metadata": {
            "tags": []
          },
          "execution_count": 209
        }
      ]
    },
    {
      "cell_type": "code",
      "metadata": {
        "id": "fzSvs5q8WVwT",
        "colab_type": "code",
        "outputId": "ab9eec91-ee29-4916-bf91-a76e50f26500",
        "colab": {
          "base_uri": "https://localhost:8080/",
          "height": 51
        }
      },
      "source": [
        "C_flat = C.flatten()\n",
        "C_flat"
      ],
      "execution_count": 0,
      "outputs": [
        {
          "output_type": "execute_result",
          "data": {
            "text/plain": [
              "array([ 0.1897583 ,  0.10102844, -0.02185059, ..., -0.19273376,\n",
              "       -0.17889404, -0.20617676])"
            ]
          },
          "metadata": {
            "tags": []
          },
          "execution_count": 210
        }
      ]
    },
    {
      "cell_type": "code",
      "metadata": {
        "id": "DTz4POgcWbdt",
        "colab_type": "code",
        "outputId": "fdfe2f7f-f59d-40ba-a07f-86786e5b896c",
        "colab": {
          "base_uri": "https://localhost:8080/",
          "height": 269
        }
      },
      "source": [
        "plt.plot(C_flat)\n",
        "plt.show()"
      ],
      "execution_count": 0,
      "outputs": [
        {
          "output_type": "display_data",
          "data": {
            "image/png": "[encoded data removed]",
            "text/plain": [
              "<Figure size 432x288 with 1 Axes>"
            ]
          },
          "metadata": {
            "tags": []
          }
        }
      ]
    },
    {
      "cell_type": "code",
      "metadata": {
        "id": "wj9-qJcSXtN4",
        "colab_type": "code",
        "outputId": "25fba962-e93a-4c11-bf0a-a2375befc01d",
        "colab": {
          "base_uri": "https://localhost:8080/",
          "height": 68
        }
      },
      "source": [
        "C_FFT = np.fft.fft(C_flat)\n",
        "C_FFT"
      ],
      "execution_count": 0,
      "outputs": [
        {
          "output_type": "execute_result",
          "data": {
            "text/plain": [
              "array([-94.42289734 +0.j        ,  -7.72670415 -7.36143935j,\n",
              "       -11.35563105-17.86194415j, ..., -32.73262691 -5.27322582j,\n",
              "       -11.35563105+17.86194415j,  -7.72670415 +7.36143935j])"
            ]
          },
          "metadata": {
            "tags": []
          },
          "execution_count": 212
        }
      ]
    },
    {
      "cell_type": "code",
      "metadata": {
        "id": "AQ8SISh1YFIk",
        "colab_type": "code",
        "outputId": "4522836a-dc92-4313-961b-655efd5c5b48",
        "colab": {
          "base_uri": "https://localhost:8080/",
          "height": 303
        }
      },
      "source": [
        "plt.plot(C_FFT)\n",
        "plt.show()"
      ],
      "execution_count": 0,
      "outputs": [
        {
          "output_type": "stream",
          "text": [
            "/usr/local/lib/python3.6/dist-packages/numpy/core/numeric.py:538: ComplexWarning: Casting complex values to real discards the imaginary part\n",
            "  return array(a, dtype, copy=False, order=order)\n"
          ],
          "name": "stderr"
        },
        {
          "output_type": "display_data",
          "data": {
            "image/png": "[encoded data removed]",
            "text/plain": [
              "<Figure size 432x288 with 1 Axes>"
            ]
          },
          "metadata": {
            "tags": []
          }
        }
      ]
    },
    {
      "cell_type": "code",
      "metadata": {
        "id": "PSYYSDVdeAQB",
        "colab_type": "code",
        "outputId": "faaa5ca9-501f-4ad7-df21-efe08eddd00f",
        "colab": {
          "base_uri": "https://localhost:8080/",
          "height": 34
        }
      },
      "source": [
        "print(type(C_FFT))"
      ],
      "execution_count": 0,
      "outputs": [
        {
          "output_type": "stream",
          "text": [
            "<class 'numpy.ndarray'>\n"
          ],
          "name": "stdout"
        }
      ]
    },
    {
      "cell_type": "code",
      "metadata": {
        "id": "6b6YmklgeKY4",
        "colab_type": "code",
        "outputId": "b4057e07-4651-4df0-ed3d-b2a8b2fe96bd",
        "colab": {
          "base_uri": "https://localhost:8080/",
          "height": 34
        }
      },
      "source": [
        "C_FFT.shape"
      ],
      "execution_count": 0,
      "outputs": [
        {
          "output_type": "execute_result",
          "data": {
            "text/plain": [
              "(22500,)"
            ]
          },
          "metadata": {
            "tags": []
          },
          "execution_count": 215
        }
      ]
    },
    {
      "cell_type": "code",
      "metadata": {
        "id": "bo57EPGKeRkm",
        "colab_type": "code",
        "outputId": "bc2b94b3-2bc1-4fd0-9254-01645c662329",
        "colab": {
          "base_uri": "https://localhost:8080/",
          "height": 269
        }
      },
      "source": [
        "\n",
        "# Number of sample points\n",
        "N = 22500\n",
        "# sample spacing\n",
        "T = 1.0\n",
        "x = np.linspace(0.0, N*T, N)\n",
        "yf = C_FFT\n",
        "xf = np.linspace(0.0, 1.0/(2.0*T), N//2)\n",
        "import matplotlib.pyplot as plt\n",
        "plt.plot(xf, 2.0/N * np.abs(yf[0:N//2]))\n",
        "plt.grid()\n",
        "plt.show()"
      ],
      "execution_count": 0,
      "outputs": [
        {
          "output_type": "display_data",
          "data": {
            "image/png": "[encoded data removed]",
            "text/plain": [
              "<Figure size 432x288 with 1 Axes>"
            ]
          },
          "metadata": {
            "tags": []
          }
        }
      ]
    },
    {
      "cell_type": "code",
      "metadata": {
        "id": "w9VEYCp6pq_7",
        "colab_type": "code",
        "outputId": "53513b3d-e2c0-496d-e244-8ea697fb0b0c",
        "colab": {
          "base_uri": "https://localhost:8080/",
          "height": 283
        }
      },
      "source": [
        "T = t[1] - t[0]  # sampling interval \n",
        "N = C_FFT.size\n",
        "\n",
        "# 1/T = frequency\n",
        "f = np.linspace(0, 1 / T, N)\n",
        "\n",
        "plt.ylabel(\"Amplitude\")\n",
        "plt.xlabel(\"Frequency [Hz]\")\n",
        "plt.bar(f[:N // 2], np.abs(C_FFT)[:N // 2] * 1 / N, width=1.5)  # 1 / N is a normalization factor\n",
        "plt.show()"
      ],
      "execution_count": 0,
      "outputs": [
        {
          "output_type": "display_data",
          "data": {
            "image/png": "[encoded data removed]",
            "text/plain": [
              "<Figure size 432x288 with 1 Axes>"
            ]
          },
          "metadata": {
            "tags": []
          }
        }
      ]
    }
  ]
}